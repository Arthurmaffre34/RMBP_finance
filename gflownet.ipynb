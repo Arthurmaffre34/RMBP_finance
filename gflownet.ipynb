{
 "cells": [
  {
   "cell_type": "code",
   "execution_count": 1,
   "metadata": {},
   "outputs": [],
   "source": [
    "import torch\n",
    "import torch.nn as nn\n",
    "import torch.distributions as dist"
   ]
  },
  {
   "cell_type": "markdown",
   "metadata": {},
   "source": [
    "Esayons le modèle de GFlowNet continu. Le modèle utilisé est le modèle model/gflownet.py"
   ]
  },
  {
   "cell_type": "code",
   "execution_count": 2,
   "metadata": {},
   "outputs": [],
   "source": [
    "from models.gflownet import GFlowNet"
   ]
  },
  {
   "cell_type": "markdown",
   "metadata": {},
   "source": [
    "initialisons le modèle"
   ]
  },
  {
   "cell_type": "code",
   "execution_count": 3,
   "metadata": {},
   "outputs": [],
   "source": [
    "state_dim = 3\n",
    "action_dim = 3\n",
    "n_steps = 4\n",
    "model = GFlowNet(state_dim=state_dim, action_dim=action_dim, n_steps=n_steps)"
   ]
  },
  {
   "cell_type": "markdown",
   "metadata": {},
   "source": [
    "Génération d'un batch aléatoire"
   ]
  },
  {
   "cell_type": "code",
   "execution_count": 4,
   "metadata": {},
   "outputs": [],
   "source": [
    "batch_size = 5\n",
    "states = torch.rand(batch_size, state_dim)"
   ]
  },
  {
   "cell_type": "markdown",
   "metadata": {},
   "source": [
    "Tester la méthode sample_action du modèle"
   ]
  },
  {
   "cell_type": "code",
   "execution_count": 5,
   "metadata": {},
   "outputs": [
    {
     "name": "stdout",
     "output_type": "stream",
     "text": [
      "États initiaux :\n",
      "tensor([[0.4432, 0.0798, 0.0791],\n",
      "        [0.3449, 0.4610, 0.5511],\n",
      "        [0.8393, 0.3597, 0.4959],\n",
      "        [0.1319, 0.2428, 0.7552],\n",
      "        [0.2584, 0.5522, 0.7722]])\n",
      "\n",
      "Actions générées :\n",
      "tensor([[[0.1967, 0.5317, 0.2716],\n",
      "         [0.4436, 0.5407, 0.0158],\n",
      "         [0.1138, 0.8730, 0.0132],\n",
      "         [0.5781, 0.3959, 0.0260]],\n",
      "\n",
      "        [[0.6624, 0.2655, 0.0721],\n",
      "         [0.4701, 0.2911, 0.2389],\n",
      "         [0.2472, 0.3152, 0.4376],\n",
      "         [0.7274, 0.0810, 0.1916]],\n",
      "\n",
      "        [[0.7415, 0.0048, 0.2537],\n",
      "         [0.0824, 0.0050, 0.9126],\n",
      "         [0.2679, 0.6788, 0.0534],\n",
      "         [0.8442, 0.0942, 0.0617]],\n",
      "\n",
      "        [[0.7167, 0.2413, 0.0420],\n",
      "         [0.1353, 0.7635, 0.1013],\n",
      "         [0.2785, 0.2441, 0.4774],\n",
      "         [0.1990, 0.2542, 0.5467]],\n",
      "\n",
      "        [[0.1772, 0.1948, 0.6280],\n",
      "         [0.0146, 0.1613, 0.8241],\n",
      "         [0.5865, 0.2362, 0.1773],\n",
      "         [0.0786, 0.0142, 0.9072]]])\n",
      "\n",
      "Log-probabilités des actions :\n",
      "Step 1:\n",
      "tensor([0.3689, 0.5836, 1.1094, 0.7680, 0.3357], grad_fn=<SubBackward0>)\n",
      "Step 2:\n",
      "tensor([1.0441, 0.2751, 1.3442, 0.7545, 1.1522], grad_fn=<SubBackward0>)\n",
      "Step 3:\n",
      "tensor([1.4297, 0.2619, 0.7606, 0.2562, 0.3407], grad_fn=<SubBackward0>)\n",
      "Step 4:\n",
      "tensor([0.8719, 0.5124, 0.8261, 0.3129, 1.1484], grad_fn=<SubBackward0>)\n"
     ]
    }
   ],
   "source": [
    "actions, log_probs = model.sample_action(states, action_dim=action_dim)\n",
    "\n",
    "#Afficher les résultats\n",
    "print(\"États initiaux :\")\n",
    "print(states)\n",
    "print(\"\\nActions générées :\")\n",
    "print(actions)\n",
    "print(\"\\nLog-probabilités des actions :\")\n",
    "for i, log_prob in enumerate(log_probs):\n",
    "    print(f\"Step {i + 1}:\")\n",
    "    print(log_prob)"
   ]
  }
 ],
 "metadata": {
  "kernelspec": {
   "display_name": "Quadcopter_simulator",
   "language": "python",
   "name": "python3"
  },
  "language_info": {
   "codemirror_mode": {
    "name": "ipython",
    "version": 3
   },
   "file_extension": ".py",
   "mimetype": "text/x-python",
   "name": "python",
   "nbconvert_exporter": "python",
   "pygments_lexer": "ipython3",
   "version": "3.12.3"
  }
 },
 "nbformat": 4,
 "nbformat_minor": 2
}
