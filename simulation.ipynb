{
 "cells": [
  {
   "cell_type": "code",
   "execution_count": 4,
   "metadata": {},
   "outputs": [],
   "source": [
    "import numpy as np\n",
    "import matplotlib.pyplot as plt"
   ]
  },
  {
   "cell_type": "markdown",
   "metadata": {},
   "source": [
    "Simulation avec le modèle de Heston pour gérer les trajectoires du portefeuille"
   ]
  },
  {
   "cell_type": "code",
   "execution_count": 5,
   "metadata": {},
   "outputs": [],
   "source": [
    "def heston_simulation(S0, v0, mu, kappa, theta, sigma, rho, T, dt, n_paths):\n",
    "    \"\"\"\n",
    "    Simule le modèle de Heston.\n",
    "    Args:\n",
    "        S0: Prix initial de l'actif\n",
    "        v0: Variance initiale.\n",
    "        mu: Taux de drift (rendement attendu).\n",
    "        kappa: Taux de réversion\n",
    "        theta: Niveau de variance de long terme.\n",
    "        sigma: Vol de vol (volatilité de la variance).\n",
    "        rho: Corrélation entre les deux mouvements browniens.\n",
    "        T: Horizon temporel (en années).\n",
    "        dt: Pas de temps.\n",
    "        n_paths: Nombre de trajectoires simulées.\n",
    "    Returns:\n",
    "        S: Trajectoires de prix de l'actif (array).\n",
    "        V: Trajectoires de variance (array).\n",
    "        t: Temps simulés.\n",
    "    \"\"\"\n",
    "\n",
    "    n_steps = int(T/ dt)\n",
    "    t = np.linspace(0, T, n_steps, dtype=np.float32)\n",
    "\n",
    "    #initialisation des matrices pour les prix et la variance\n",
    "    S = np.zeros((n_paths, n_steps), dtype=np.float32)\n",
    "    V = np.zeros((n_paths, n_steps), dtype=np.float32)\n",
    "\n",
    "    #Conditions initiales\n",
    "    S[:, 0] = S0\n",
    "    V[:, 0] = v0\n",
    "\n",
    "    #simuler les mouvements browniens corrélés\n",
    "    Z1 = np.random.normal(size=(n_paths, n_steps - 1)).astype(np.float32)\n",
    "    Z2 = np.random.normal(size=(n_paths, n_steps - 1)).astype(np.float32)\n",
    "    W1 = Z1 * np.sqrt(dt).astype(np.float32)\n",
    "    W2 = (rho * Z1 + np.sqrt(1 - rho**2) * Z2) * np.sqrt(dt)\n",
    "\n",
    "    #Pré-calcul de certaines constantes\n",
    "    sqrt_dt = np.sqrt(dt).astype(np.float32)\n",
    "    max_variance_epsilon = 1e-6 #évite les valeurs négatives\n",
    "\n",
    "    # Boucle temporelle pour simuler les trajectoires\n",
    "    for i in range(1, n_steps):\n",
    "        #Simulation de la variance v_t\n",
    "        V[:, i] = V[:, i-1] + kappa * (theta - V[:, i-1]) * dt + sigma * np.sqrt(np.maximum(V[:, i-1], 0)) * np.sqrt(dt) * W2[:, i-1]\n",
    "        V[:, i] = np.maximum(V[:, i], max_variance_epsilon) #Empèche les valeurs négatives\n",
    "\n",
    "        #simulation du prix S_t\n",
    "        S[:, i] = S[:, i-1] * np.exp((mu - 0.5 * V[:, i-1]) * dt + np.sqrt(V[:, i-1]) * W1[:, i-1])\n",
    "\n",
    "\n",
    "    return S, V, t\n"
   ]
  },
  {
   "cell_type": "markdown",
   "metadata": {},
   "source": [
    "Paramètres du modèle"
   ]
  },
  {
   "cell_type": "code",
   "execution_count": 6,
   "metadata": {},
   "outputs": [],
   "source": [
    "S0 = 100 #Prix initial\n",
    "v0 = 0.04 #Variance initiale\n",
    "mu = 0.05 #Drift (rendement attendu)\n",
    "kappa = 2.0 #Taux de réversion\n",
    "theta = 0.04 #Variance long-terme\n",
    "sigma = 0.5 #Vol de vol\n",
    "rho = -0.7 #Corrélation\n",
    "T = 1.0 #Horizon temporel (1 an)\n",
    "dt = 0.01 #Pas de temps\n",
    "n_paths = 500000 #Nombre de trajectoires"
   ]
  },
  {
   "cell_type": "markdown",
   "metadata": {},
   "source": [
    "Simulation"
   ]
  },
  {
   "cell_type": "code",
   "execution_count": 7,
   "metadata": {},
   "outputs": [],
   "source": [
    "S, V, t = heston_simulation(S0, v0, mu, kappa, theta, sigma, rho, T, dt, n_paths)"
   ]
  },
  {
   "cell_type": "markdown",
   "metadata": {},
   "source": [
    "Visualisation des trajectoires"
   ]
  },
  {
   "cell_type": "code",
   "execution_count": null,
   "metadata": {},
   "outputs": [
    {
     "name": "stderr",
     "output_type": "stream",
     "text": [
      "/var/folders/3d/px25gn9n1cg8clmw10nxnsg00000gn/T/ipykernel_28670/382375617.py:10: UserWarning: No artists with labels found to put in legend.  Note that artists whose label start with an underscore are ignored when legend() is called with no argument.\n",
      "  plt.legend()\n",
      "Exception ignored in: <bound method IPythonKernel._clean_thread_parent_frames of <ipykernel.ipkernel.IPythonKernel object at 0x106bcf380>>\n",
      "Traceback (most recent call last):\n",
      "  File \"/Users/arthur/miniconda3/envs/Quadcopter_simulator/lib/python3.12/site-packages/ipykernel/ipkernel.py\", line 775, in _clean_thread_parent_frames\n",
      "    def _clean_thread_parent_frames(\n",
      "\n",
      "KeyboardInterrupt: \n"
     ]
    }
   ],
   "source": [
    "plt.figure(figsize=(12,6))\n",
    "\n",
    "#trajectoires de prix\n",
    "plt.subplot(1, 2, 1)\n",
    "for i in range(n_paths):\n",
    "    plt.plot(t, S[i, :])\n",
    "plt.title(\"Trajectoires de prix (Modèle de Heston)\")\n",
    "plt.xlabel(\"Temps (années)\")\n",
    "plt.ylabel(\"Prix de l'actif\")\n",
    "plt.legend()\n",
    "\n",
    "#Trajectoires de variance\n",
    "plt.subplot(1, 2, 2)\n",
    "for i in range(n_paths):\n",
    "    plt.plot(t, V[i, :])\n",
    "plt.title(\"Trajectoire de variance (Modèle de Heston)\")\n",
    "plt.xlabel(\"Temps (années)\")\n",
    "plt.ylabel(\"Variance\")\n",
    "plt.legend()\n",
    "\n",
    "plt.tight_layout()\n",
    "plt.show()"
   ]
  }
 ],
 "metadata": {
  "kernelspec": {
   "display_name": "Quadcopter_simulator",
   "language": "python",
   "name": "python3"
  },
  "language_info": {
   "codemirror_mode": {
    "name": "ipython",
    "version": 3
   },
   "file_extension": ".py",
   "mimetype": "text/x-python",
   "name": "python",
   "nbconvert_exporter": "python",
   "pygments_lexer": "ipython3",
   "version": "3.12.3"
  }
 },
 "nbformat": 4,
 "nbformat_minor": 2
}
